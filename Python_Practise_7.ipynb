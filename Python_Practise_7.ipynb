{
 "cells": [
  {
   "cell_type": "markdown",
   "metadata": {},
   "source": [
    "A palindrome is a word, phrase, number, or other sequence of characters\n",
    "which reads the same backward or forward. E.g “MALAYALAM”.\n",
    "a) Write a program to accept a string as input.\n",
    "b) Check if the String is a Palindrome and print relevant messages.\n",
    "c) The Program is in loop, and will end if user input string is “end”"
   ]
  },
  {
   "cell_type": "code",
   "execution_count": 12,
   "metadata": {},
   "outputs": [
    {
     "name": "stdout",
     "output_type": "stream",
     "text": [
      "Enter:hi\n",
      "hi is not a Palindrome\n",
      "Enter:mam\n",
      "mam is a Palindrome\n",
      "Enter:madam\n",
      "madam is a Palindrome\n",
      "Enter:1010\n",
      "1010 is not a Palindrome\n",
      "Enter:1111\n",
      "1111 is a Palindrome\n",
      "Enter:end\n",
      "END entered breaking the loop\n"
     ]
    }
   ],
   "source": [
    "s=0\n",
    "\n",
    "while s<10:\n",
    "    \n",
    "    a=input(\"Enter:\")\n",
    "    \n",
    "    if a==\"end\":\n",
    "        print(\"END entered breaking the loop\")\n",
    "        break\n",
    "    else:\n",
    "            \n",
    "        b=[]\n",
    "        c=list(a)\n",
    "        i=len(c)-1\n",
    "        while(i>=0):\n",
    "            b.append(c[i])\n",
    "            i=i-1\n",
    "        import numpy as np\n",
    "        aa=np.array(c)\n",
    "        ba=np.array(b)\n",
    "        if all(aa==ba):\n",
    "                \n",
    "            print(a,\"is a Palindrome\")\n",
    "        else:\n",
    "            print(a,\"is not a Palindrome\")\n",
    "                        \n",
    "\n",
    "            "
   ]
  },
  {
   "cell_type": "code",
   "execution_count": null,
   "metadata": {},
   "outputs": [],
   "source": [
    "Write a program that accepts a sequence of whitespace separated words as\n",
    "input and prints the words after removing all duplicate words and sorting\n",
    "them alphanumerically.\n",
    "\n",
    "Suppose the following input is supplied to the program:\n",
    "    \n",
    "“hello world and practice makes perfect and hello world again”\n",
    "\n",
    "Then, the output should be:\n",
    "    \n",
    "“again and hello makes perfect practice world”"
   ]
  },
  {
   "cell_type": "code",
   "execution_count": 33,
   "metadata": {},
   "outputs": [
    {
     "name": "stdout",
     "output_type": "stream",
     "text": [
      "Enter:hello world and practice makes perfect and hello world again\n"
     ]
    },
    {
     "data": {
      "text/plain": [
       "'again and hello makes perfect practice world'"
      ]
     },
     "execution_count": 33,
     "metadata": {},
     "output_type": "execute_result"
    }
   ],
   "source": [
    "a=input(\"Enter:\")\n",
    "c=a.rsplit()\n",
    "v=set(c)\n",
    "d=sorted(v)\n",
    "x=\" \".join(d)\n",
    "x"
   ]
  }
 ],
 "metadata": {
  "kernelspec": {
   "display_name": "Python 3",
   "language": "python",
   "name": "python3"
  },
  "language_info": {
   "codemirror_mode": {
    "name": "ipython",
    "version": 3
   },
   "file_extension": ".py",
   "mimetype": "text/x-python",
   "name": "python",
   "nbconvert_exporter": "python",
   "pygments_lexer": "ipython3",
   "version": "3.7.6"
  }
 },
 "nbformat": 4,
 "nbformat_minor": 4
}
